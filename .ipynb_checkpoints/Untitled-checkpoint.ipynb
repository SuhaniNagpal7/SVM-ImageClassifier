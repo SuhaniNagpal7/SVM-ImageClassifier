{
 "cells": [
  {
   "cell_type": "code",
   "execution_count": 3,
   "id": "24bb8a42-8537-49d3-907b-d2f072332568",
   "metadata": {},
   "outputs": [],
   "source": [
    "import numpy as np\n",
    "import os\n",
    "from pathlib import Path"
   ]
  },
  {
   "cell_type": "code",
   "execution_count": 8,
   "id": "f7458497-864b-4fd2-a7db-5814d2d36880",
   "metadata": {},
   "outputs": [],
   "source": [
    "p = Path(\"../Datasets/\")\n",
    "dirs = p.glob(\"*\")\n",
    "for folder_name in dirs:\n",
    "    print(folder_name)\n",
    "    label = str(folder_name)\n",
    "    print(label)"
   ]
  },
  {
   "cell_type": "code",
   "execution_count": null,
   "id": "02969631-7390-4d32-afb5-07bff5321146",
   "metadata": {},
   "outputs": [],
   "source": []
  }
 ],
 "metadata": {
  "kernelspec": {
   "display_name": "Python 3 (ipykernel)",
   "language": "python",
   "name": "python3"
  },
  "language_info": {
   "codemirror_mode": {
    "name": "ipython",
    "version": 3
   },
   "file_extension": ".py",
   "mimetype": "text/x-python",
   "name": "python",
   "nbconvert_exporter": "python",
   "pygments_lexer": "ipython3",
   "version": "3.13.2"
  }
 },
 "nbformat": 4,
 "nbformat_minor": 5
}
